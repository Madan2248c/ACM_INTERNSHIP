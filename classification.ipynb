{
 "cells": [
  {
   "cell_type": "code",
   "execution_count": 89,
   "metadata": {},
   "outputs": [],
   "source": [
    "import pandas as pd\n",
    "import numpy as np\n",
    "import matplotlib.pyplot as plt\n",
    "import seaborn as sns\n",
    "from sklearn.cluster import KMeans\n",
    "from sklearn import datasets\n",
    "from io import StringIO\n",
    "from sklearn.tree import export_graphviz\n",
    "from sklearn.model_selection import train_test_split\n",
    "from sklearn import tree\n",
    "from sklearn import metrics\n"
   ]
  },
  {
   "cell_type": "code",
   "execution_count": 90,
   "metadata": {},
   "outputs": [
    {
     "data": {
      "text/html": [
       "<div>\n",
       "<style scoped>\n",
       "    .dataframe tbody tr th:only-of-type {\n",
       "        vertical-align: middle;\n",
       "    }\n",
       "\n",
       "    .dataframe tbody tr th {\n",
       "        vertical-align: top;\n",
       "    }\n",
       "\n",
       "    .dataframe thead th {\n",
       "        text-align: right;\n",
       "    }\n",
       "</style>\n",
       "<table border=\"1\" class=\"dataframe\">\n",
       "  <thead>\n",
       "    <tr style=\"text-align: right;\">\n",
       "      <th></th>\n",
       "      <th>SampleIdx</th>\n",
       "      <th>Gender</th>\n",
       "      <th>bodyBuild_Size</th>\n",
       "      <th>bodyFrame_Breadth</th>\n",
       "      <th>bodyFrame_Length</th>\n",
       "      <th>bodyHair_Color</th>\n",
       "      <th>chest_Breadth</th>\n",
       "      <th>eye_Color</th>\n",
       "      <th>eye_Size</th>\n",
       "      <th>eye_Symmetry</th>\n",
       "      <th>...</th>\n",
       "      <th>teeth_Appearance1</th>\n",
       "      <th>teeth_Appearance2</th>\n",
       "      <th>voice_clear</th>\n",
       "      <th>skin_cracked</th>\n",
       "      <th>skin_freckle</th>\n",
       "      <th>skin_mark</th>\n",
       "      <th>skin_mole</th>\n",
       "      <th>skin_pimple</th>\n",
       "      <th>skin_wrinkled</th>\n",
       "      <th>C</th>\n",
       "    </tr>\n",
       "  </thead>\n",
       "  <tbody>\n",
       "    <tr>\n",
       "      <th>0</th>\n",
       "      <td>1</td>\n",
       "      <td>Male</td>\n",
       "      <td>Weaklydeveloped</td>\n",
       "      <td>Thin/Narrow</td>\n",
       "      <td>Long</td>\n",
       "      <td>Black</td>\n",
       "      <td>Thin/Narrow</td>\n",
       "      <td>DarkBrown</td>\n",
       "      <td>Moderatelydeveloped</td>\n",
       "      <td>Proportionate</td>\n",
       "      <td>...</td>\n",
       "      <td>Non_Brittle/Cracked</td>\n",
       "      <td>Non_Loose</td>\n",
       "      <td>Clear</td>\n",
       "      <td>Non_Cracked</td>\n",
       "      <td>Non_Freckles</td>\n",
       "      <td>Non_Marks</td>\n",
       "      <td>Non_Moles</td>\n",
       "      <td>Pimples</td>\n",
       "      <td>Non_Wrinkled</td>\n",
       "      <td>Vata</td>\n",
       "    </tr>\n",
       "    <tr>\n",
       "      <th>1</th>\n",
       "      <td>2</td>\n",
       "      <td>Male</td>\n",
       "      <td>Welldeveloped</td>\n",
       "      <td>Broad</td>\n",
       "      <td>Long</td>\n",
       "      <td>DarkBrown</td>\n",
       "      <td>Broad</td>\n",
       "      <td>DarkBrown</td>\n",
       "      <td>Moderatelydeveloped</td>\n",
       "      <td>Proportionate</td>\n",
       "      <td>...</td>\n",
       "      <td>Non_Brittle/Cracked</td>\n",
       "      <td>Non_Loose</td>\n",
       "      <td>Clear</td>\n",
       "      <td>Non_Cracked</td>\n",
       "      <td>Non_Freckles</td>\n",
       "      <td>Marks</td>\n",
       "      <td>Non_Moles</td>\n",
       "      <td>Non_Pimples</td>\n",
       "      <td>Non_Wrinkled</td>\n",
       "      <td>Kapha</td>\n",
       "    </tr>\n",
       "    <tr>\n",
       "      <th>2</th>\n",
       "      <td>3</td>\n",
       "      <td>Male</td>\n",
       "      <td>Weaklydeveloped</td>\n",
       "      <td>Thin/Narrow</td>\n",
       "      <td>Long</td>\n",
       "      <td>LightBrown</td>\n",
       "      <td>Thin/Narrow</td>\n",
       "      <td>LightBrown</td>\n",
       "      <td>Weaklydeveloped</td>\n",
       "      <td>Proportionate</td>\n",
       "      <td>...</td>\n",
       "      <td>Non_Brittle/Cracked</td>\n",
       "      <td>Non_Loose</td>\n",
       "      <td>Non_Clear</td>\n",
       "      <td>Cracked</td>\n",
       "      <td>Non_Freckles</td>\n",
       "      <td>Non_Marks</td>\n",
       "      <td>Moles</td>\n",
       "      <td>Pimples</td>\n",
       "      <td>Wrinkled</td>\n",
       "      <td>Vata</td>\n",
       "    </tr>\n",
       "    <tr>\n",
       "      <th>3</th>\n",
       "      <td>4</td>\n",
       "      <td>Male</td>\n",
       "      <td>Weaklydeveloped</td>\n",
       "      <td>Thin/Narrow</td>\n",
       "      <td>Long</td>\n",
       "      <td>Dusky</td>\n",
       "      <td>Thin/Narrow</td>\n",
       "      <td>DarkBrown</td>\n",
       "      <td>Weaklydeveloped</td>\n",
       "      <td>Proportionate</td>\n",
       "      <td>...</td>\n",
       "      <td>Non_Brittle/Cracked</td>\n",
       "      <td>Non_Loose</td>\n",
       "      <td>Clear</td>\n",
       "      <td>Cracked</td>\n",
       "      <td>Non_Freckles</td>\n",
       "      <td>Non_Marks</td>\n",
       "      <td>Non_Moles</td>\n",
       "      <td>Non_Pimples</td>\n",
       "      <td>Wrinkled</td>\n",
       "      <td>Vata</td>\n",
       "    </tr>\n",
       "    <tr>\n",
       "      <th>4</th>\n",
       "      <td>5</td>\n",
       "      <td>Male</td>\n",
       "      <td>Welldeveloped</td>\n",
       "      <td>Broad</td>\n",
       "      <td>Long</td>\n",
       "      <td>Black</td>\n",
       "      <td>Broad</td>\n",
       "      <td>Black</td>\n",
       "      <td>Moderatelydeveloped</td>\n",
       "      <td>Proportionate</td>\n",
       "      <td>...</td>\n",
       "      <td>Non_Brittle/Cracked</td>\n",
       "      <td>Non_Loose</td>\n",
       "      <td>Non_Clear</td>\n",
       "      <td>Non_Cracked</td>\n",
       "      <td>Non_Freckles</td>\n",
       "      <td>Marks</td>\n",
       "      <td>Moles</td>\n",
       "      <td>Non_Pimples</td>\n",
       "      <td>Non_Wrinkled</td>\n",
       "      <td>Kapha</td>\n",
       "    </tr>\n",
       "  </tbody>\n",
       "</table>\n",
       "<p>5 rows × 135 columns</p>\n",
       "</div>"
      ],
      "text/plain": [
       "   SampleIdx Gender   bodyBuild_Size bodyFrame_Breadth bodyFrame_Length  \\\n",
       "0          1   Male  Weaklydeveloped       Thin/Narrow             Long   \n",
       "1          2   Male    Welldeveloped             Broad             Long   \n",
       "2          3   Male  Weaklydeveloped       Thin/Narrow             Long   \n",
       "3          4   Male  Weaklydeveloped       Thin/Narrow             Long   \n",
       "4          5   Male    Welldeveloped             Broad             Long   \n",
       "\n",
       "  bodyHair_Color chest_Breadth   eye_Color             eye_Size  \\\n",
       "0          Black   Thin/Narrow   DarkBrown  Moderatelydeveloped   \n",
       "1      DarkBrown         Broad   DarkBrown  Moderatelydeveloped   \n",
       "2     LightBrown   Thin/Narrow  LightBrown      Weaklydeveloped   \n",
       "3          Dusky   Thin/Narrow   DarkBrown      Weaklydeveloped   \n",
       "4          Black         Broad       Black  Moderatelydeveloped   \n",
       "\n",
       "    eye_Symmetry  ...    teeth_Appearance1 teeth_Appearance2 voice_clear  \\\n",
       "0  Proportionate  ...  Non_Brittle/Cracked         Non_Loose       Clear   \n",
       "1  Proportionate  ...  Non_Brittle/Cracked         Non_Loose       Clear   \n",
       "2  Proportionate  ...  Non_Brittle/Cracked         Non_Loose   Non_Clear   \n",
       "3  Proportionate  ...  Non_Brittle/Cracked         Non_Loose       Clear   \n",
       "4  Proportionate  ...  Non_Brittle/Cracked         Non_Loose   Non_Clear   \n",
       "\n",
       "  skin_cracked  skin_freckle  skin_mark  skin_mole  skin_pimple skin_wrinkled  \\\n",
       "0  Non_Cracked  Non_Freckles  Non_Marks  Non_Moles      Pimples  Non_Wrinkled   \n",
       "1  Non_Cracked  Non_Freckles      Marks  Non_Moles  Non_Pimples  Non_Wrinkled   \n",
       "2      Cracked  Non_Freckles  Non_Marks      Moles      Pimples      Wrinkled   \n",
       "3      Cracked  Non_Freckles  Non_Marks  Non_Moles  Non_Pimples      Wrinkled   \n",
       "4  Non_Cracked  Non_Freckles      Marks      Moles  Non_Pimples  Non_Wrinkled   \n",
       "\n",
       "       C  \n",
       "0   Vata  \n",
       "1  Kapha  \n",
       "2   Vata  \n",
       "3   Vata  \n",
       "4  Kapha  \n",
       "\n",
       "[5 rows x 135 columns]"
      ]
     },
     "execution_count": 90,
     "metadata": {},
     "output_type": "execute_result"
    }
   ],
   "source": [
    "data = pd.read_csv('data1.csv')\n",
    "data.head()"
   ]
  },
  {
   "cell_type": "code",
   "execution_count": 91,
   "metadata": {},
   "outputs": [
    {
     "name": "stdout",
     "output_type": "stream",
     "text": [
      "Index(['SampleIdx', 'Gender', 'bodyBuild_Size', 'bodyFrame_Breadth',\n",
      "       'bodyFrame_Length', 'bodyHair_Color', 'chest_Breadth', 'eye_Color',\n",
      "       'eye_Size', 'eye_Symmetry',\n",
      "       ...\n",
      "       'teeth_Appearance1', 'teeth_Appearance2', 'voice_clear', 'skin_cracked',\n",
      "       'skin_freckle', 'skin_mark', 'skin_mole', 'skin_pimple',\n",
      "       'skin_wrinkled', 'C'],\n",
      "      dtype='object', length=135)\n"
     ]
    }
   ],
   "source": [
    "print(data.columns)"
   ]
  },
  {
   "cell_type": "code",
   "execution_count": 92,
   "metadata": {},
   "outputs": [],
   "source": [
    "data1 = data.drop('C', axis=1)\n",
    "data1 = data1.drop('SampleIdx', axis=1)"
   ]
  },
  {
   "cell_type": "code",
   "execution_count": 93,
   "metadata": {},
   "outputs": [],
   "source": [
    "x_train, x_test, y_train, y_test = train_test_split(data1, data['C'], test_size=0.25, random_state=42)"
   ]
  },
  {
   "cell_type": "code",
   "execution_count": 94,
   "metadata": {},
   "outputs": [
    {
     "data": {
      "text/plain": [
       "Index(['Gender', 'bodyBuild_Size', 'bodyFrame_Breadth', 'bodyFrame_Length',\n",
       "       'bodyHair_Color', 'chest_Breadth', 'eye_Color', 'eye_Size',\n",
       "       'eye_Symmetry', 'eyebrow_Size',\n",
       "       ...\n",
       "       'speech_Irrelevant', 'teeth_Appearance1', 'teeth_Appearance2',\n",
       "       'voice_clear', 'skin_cracked', 'skin_freckle', 'skin_mark', 'skin_mole',\n",
       "       'skin_pimple', 'skin_wrinkled'],\n",
       "      dtype='object', length=133)"
      ]
     },
     "execution_count": 94,
     "metadata": {},
     "output_type": "execute_result"
    }
   ],
   "source": [
    "x_train.columns"
   ]
  },
  {
   "cell_type": "code",
   "execution_count": 95,
   "metadata": {},
   "outputs": [],
   "source": [
    "from tensorflow import keras\n",
    "\n",
    "model = keras.Sequential([\n",
    "    keras.layers.Dense(10, input_shape=(x_train.shape[1],), activation='relu'),\n",
    "    keras.layers.Dense(5, activation='relu'),  \n",
    "    keras.layers.Dense(3, activation='sigmoid') \n",
    "])\n"
   ]
  },
  {
   "cell_type": "code",
   "execution_count": 96,
   "metadata": {},
   "outputs": [],
   "source": [
    "model.compile(loss='categorical_crossentropy', optimizer='adam', metrics=['accuracy'])"
   ]
  },
  {
   "cell_type": "code",
   "execution_count": 98,
   "metadata": {},
   "outputs": [
    {
     "ename": "ValueError",
     "evalue": "Failed to convert a NumPy array to a Tensor (Unsupported object type float).",
     "output_type": "error",
     "traceback": [
      "\u001b[1;31m---------------------------------------------------------------------------\u001b[0m",
      "\u001b[1;31mValueError\u001b[0m                                Traceback (most recent call last)",
      "Cell \u001b[1;32mIn[98], line 1\u001b[0m\n\u001b[1;32m----> 1\u001b[0m \u001b[43mmodel\u001b[49m\u001b[38;5;241;43m.\u001b[39;49m\u001b[43mfit\u001b[49m\u001b[43m(\u001b[49m\u001b[43mx_train\u001b[49m\u001b[43m,\u001b[49m\u001b[43m \u001b[49m\u001b[43my_train\u001b[49m\u001b[43m,\u001b[49m\u001b[43m \u001b[49m\u001b[43mepochs\u001b[49m\u001b[38;5;241;43m=\u001b[39;49m\u001b[38;5;241;43m5\u001b[39;49m\u001b[43m)\u001b[49m\n",
      "File \u001b[1;32mc:\\Users\\Madan\\AppData\\Local\\Programs\\Python\\Python310\\lib\\site-packages\\keras\\src\\utils\\traceback_utils.py:70\u001b[0m, in \u001b[0;36mfilter_traceback.<locals>.error_handler\u001b[1;34m(*args, **kwargs)\u001b[0m\n\u001b[0;32m     67\u001b[0m     filtered_tb \u001b[38;5;241m=\u001b[39m _process_traceback_frames(e\u001b[38;5;241m.\u001b[39m__traceback__)\n\u001b[0;32m     68\u001b[0m     \u001b[38;5;66;03m# To get the full stack trace, call:\u001b[39;00m\n\u001b[0;32m     69\u001b[0m     \u001b[38;5;66;03m# `tf.debugging.disable_traceback_filtering()`\u001b[39;00m\n\u001b[1;32m---> 70\u001b[0m     \u001b[38;5;28;01mraise\u001b[39;00m e\u001b[38;5;241m.\u001b[39mwith_traceback(filtered_tb) \u001b[38;5;28;01mfrom\u001b[39;00m \u001b[38;5;28;01mNone\u001b[39;00m\n\u001b[0;32m     71\u001b[0m \u001b[38;5;28;01mfinally\u001b[39;00m:\n\u001b[0;32m     72\u001b[0m     \u001b[38;5;28;01mdel\u001b[39;00m filtered_tb\n",
      "File \u001b[1;32mc:\\Users\\Madan\\AppData\\Local\\Programs\\Python\\Python310\\lib\\site-packages\\tensorflow\\python\\framework\\constant_op.py:103\u001b[0m, in \u001b[0;36mconvert_to_eager_tensor\u001b[1;34m(value, ctx, dtype)\u001b[0m\n\u001b[0;32m    101\u001b[0m     dtype \u001b[38;5;241m=\u001b[39m dtypes\u001b[38;5;241m.\u001b[39mas_dtype(dtype)\u001b[38;5;241m.\u001b[39mas_datatype_enum\n\u001b[0;32m    102\u001b[0m ctx\u001b[38;5;241m.\u001b[39mensure_initialized()\n\u001b[1;32m--> 103\u001b[0m \u001b[38;5;28;01mreturn\u001b[39;00m \u001b[43mops\u001b[49m\u001b[38;5;241;43m.\u001b[39;49m\u001b[43mEagerTensor\u001b[49m\u001b[43m(\u001b[49m\u001b[43mvalue\u001b[49m\u001b[43m,\u001b[49m\u001b[43m \u001b[49m\u001b[43mctx\u001b[49m\u001b[38;5;241;43m.\u001b[39;49m\u001b[43mdevice_name\u001b[49m\u001b[43m,\u001b[49m\u001b[43m \u001b[49m\u001b[43mdtype\u001b[49m\u001b[43m)\u001b[49m\n",
      "\u001b[1;31mValueError\u001b[0m: Failed to convert a NumPy array to a Tensor (Unsupported object type float)."
     ]
    }
   ],
   "source": [
    "model.fit(x_train, y_train, epochs=5)"
   ]
  }
 ],
 "metadata": {
  "kernelspec": {
   "display_name": "Python 3",
   "language": "python",
   "name": "python3"
  },
  "language_info": {
   "codemirror_mode": {
    "name": "ipython",
    "version": 3
   },
   "file_extension": ".py",
   "mimetype": "text/x-python",
   "name": "python",
   "nbconvert_exporter": "python",
   "pygments_lexer": "ipython3",
   "version": "3.10.9"
  }
 },
 "nbformat": 4,
 "nbformat_minor": 2
}
